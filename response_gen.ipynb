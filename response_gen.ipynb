{
 "cells": [
  {
   "cell_type": "code",
   "execution_count": 6,
   "metadata": {},
   "outputs": [],
   "source": [
    "import pandas\n",
    "\n",
    "greeting = [\"Hii\", \"Hi there\", \"Hola\", \"What's up\",\"Hey!!\",\"Howdy\", \"Hey there\",\"Hello there\",\"Hello boss\", \"Hii mate\"]\n",
    "intro = [\"I'm HEKA! your personal medical assisstant\", \"I'm HEKA! THE MED-BOT\", \"I'm your medical assisstant, HEKA!!\", \"I'm HEKA your MED-BOT\"]\n",
    "greet_ques = [\"How can I help you ?\",\"How can I assisstant you ?\", \"How's your day going?\",\"How do you do?\",\"how was your day boss\",\"Anything I can help ?\", \"Need my help ?\"]\n",
    "\n",
    "greet = pandas.DataFrame(greeting)\n",
    "intro = pandas.DataFrame(intro)\n",
    "greet_ques = pandas.DataFrame(greet_ques)\n",
    "\n",
    "greet.to_csv('greet_db.csv',index=False)\n",
    "greet_ques.to_csv('greet_ques_db.csv',index=False)\n",
    "intro.to_csv('intro_db.csv',index=False)"
   ]
  },
  {
   "cell_type": "code",
   "execution_count": 7,
   "metadata": {},
   "outputs": [],
   "source": [
    "name = [\"Can i know your name ?\", \"How can I call you ?\",\"can I know your sweet name?\"]\n",
    "name_greet =[\"Nice name !\"]\n",
    "symp =[\"I can help you find out what's going on with a simple symptom assisment.\"]\n",
    "symp_greet =[\"Thanks for your responses, diagnosis in process please wait !\"]\n",
    "symp_error =[\"sorry I need more data to diagnosis your symptoms\"]\n",
    "\n",
    "name = pandas.DataFrame(name)\n",
    "name_greet = pandas.DataFrame(intro)\n",
    "symp = pandas.DataFrame(symp)\n",
    "symp_greet = pandas.DataFrame(symp_greet)\n",
    "symp_error = pandas.DataFrame(symp_error)\n",
    "\n",
    "name.to_csv('name_db.csv',index=False)\n",
    "name_greet.to_csv('name_greet_db.csv',index=False)\n",
    "symp.to_csv('symp_db.csv',index=False)\n",
    "symp_greet.to_csv('symp_greet_db.csv',index=False)\n",
    "symp_error.to_csv('symp_error_db.csv',index=False)"
   ]
  },
  {
   "cell_type": "code",
   "execution_count": null,
   "metadata": {},
   "outputs": [],
   "source": []
  }
 ],
 "metadata": {
  "kernelspec": {
   "display_name": "Python 3",
   "language": "python",
   "name": "python3"
  },
  "language_info": {
   "codemirror_mode": {
    "name": "ipython",
    "version": 3
   },
   "file_extension": ".py",
   "mimetype": "text/x-python",
   "name": "python",
   "nbconvert_exporter": "python",
   "pygments_lexer": "ipython3",
   "version": "3.7.7"
  }
 },
 "nbformat": 4,
 "nbformat_minor": 4
}
