{
 "cells": [
  {
   "cell_type": "markdown",
   "metadata": {},
   "source": [
    "# Disease prediction System using chatbot"
   ]
  },
  {
   "cell_type": "code",
   "execution_count": 12,
   "metadata": {},
   "outputs": [],
   "source": [
    "import pickle\n",
    "import nltk\n",
    "import pandas as pd\n",
    "import numpy as np\n",
    "import speech_recognition as sr\n",
    "from sklearn.pipeline import Pipeline\n",
    "from rake_nltk import Rake\n",
    "import pyttsx3\n",
    "from chatterbot import ChatBot\n",
    "from chatterbot.trainers import ChatterBotCorpusTrainer"
   ]
  },
  {
   "cell_type": "code",
   "execution_count": 13,
   "metadata": {},
   "outputs": [],
   "source": [
    "intro = pd.read_csv('response//intro_db.csv')\n",
    "prec = pd.read_csv('response//prec_db.csv')\n",
    "desc = pd.read_csv('response//desc_db.csv')\n",
    "symp_greet = pd.read_csv('response//symp_greet_db.csv')\n",
    "symp = pd.read_csv('response//symp_db.csv')\n",
    "symp_error = pd.read_csv('response//symp_error_db.csv')\n",
    "bye = pd.read_csv('response//bye_db.csv')\n",
    "\n",
    "\n",
    "des = pd.read_csv('csv/symptom_Description.csv')\n",
    "prec = pd.read_csv('csv/symptom_precaution.csv')\n",
    "sev = pd.read_csv('csv/Symptom-severity.csv')"
   ]
  },
  {
   "cell_type": "code",
   "execution_count": 14,
   "metadata": {},
   "outputs": [
    {
     "name": "stdout",
     "output_type": "stream",
     "text": [
      "Training ai.yml: [####################] 100%\n",
      "Training botprofile.yml: [####################] 100%\n",
      "Training computers.yml: [####################] 100%\n",
      "Training conversations.yml: [####################] 100%\n",
      "Training emotion.yml: [####################] 100%\n",
      "Training food.yml: [####################] 100%\n",
      "Training gossip.yml: [####################] 100%\n",
      "Training greetings.yml: [####################] 100%\n",
      "Training health.yml: [####################] 100%\n",
      "Training history.yml: [####################] 100%\n",
      "Training humor.yml: [####################] 100%\n",
      "Training literature.yml: [####################] 100%\n",
      "Training money.yml: [####################] 100%\n",
      "Training movies.yml: [####################] 100%\n",
      "Training politics.yml: [####################] 100%\n",
      "Training psychology.yml: [####################] 100%\n",
      "Training science.yml: [####################] 100%\n",
      "Training sports.yml: [####################] 100%\n",
      "Training trivia.yml: [####################] 100%\n"
     ]
    }
   ],
   "source": [
    "with open(\"CPS.pkl\", 'rb') as file:  \n",
    "    CPS_Model = pickle.load(file)\n",
    "\n",
    "chatbot = ChatBot(\"Chatterbot\",storage_adapter=\"chatterbot.storage.SQLStorageAdapter\")\n",
    "\n",
    "trainer = ChatterBotCorpusTrainer(chatbot)\n",
    "trainer.train(\"chatterbot.corpus.english\")\n"
   ]
  },
  {
   "cell_type": "code",
   "execution_count": 15,
   "metadata": {},
   "outputs": [],
   "source": [
    "def speech ():  \n",
    "    r = sr.Recognizer()\n",
    "    with sr.Microphone() as source:\n",
    "        print(\"Talk\")\n",
    "        audio_input = r.record(source, duration= 6)\n",
    "        try:\n",
    "            audio_text = r.recognize_google(audio_input)\n",
    "            print(\"User: \",audio_text)\n",
    "            return (audio_text)\n",
    "        except:\n",
    "             sample_n(symp_error)\n",
    "def t2s (text,sp):\n",
    "    engine = pyttsx3.init()\n",
    "    text = np.array(text)\n",
    "    voices = engine.getProperty('voices') \n",
    "    engine.setProperty(\"rate\", sp)\n",
    "    engine.setProperty(\"voice\", voices[1].id)\n",
    "    engine.say(text)\n",
    "    print('Hekka : ',str(text))\n",
    "    return (engine.runAndWait())                "
   ]
  },
  {
   "cell_type": "code",
   "execution_count": 16,
   "metadata": {},
   "outputs": [],
   "source": [
    "class RakeImpl:\n",
    "        def __init__(self, text):\n",
    "            self.text = text\n",
    "            self.rake = Rake()\n",
    "        def getKeywords(self):\n",
    "            self.rake.extract_keywords_from_text(self.text)\n",
    "            return self.rake.get_ranked_phrases()"
   ]
  },
  {
   "cell_type": "code",
   "execution_count": 17,
   "metadata": {},
   "outputs": [],
   "source": [
    "def preprocess(user_text):    \n",
    "        rakeImpl = RakeImpl(user_text)\n",
    "        user_text = rakeImpl.getKeywords()[:20]\n",
    "        user_text = ''.join(user_text)\n",
    "        return user_text"
   ]
  },
  {
   "cell_type": "code",
   "execution_count": 18,
   "metadata": {},
   "outputs": [],
   "source": [
    "def chat_resp(ques):\n",
    "    response = chatbot.get_response(ques)\n",
    "    return (response)\n",
    "def random_resp(df):\n",
    "    text = df['0'].sample(n=1)\n",
    "    text = np.array(text)\n",
    "    return (''.join(text))   \n",
    "def convert(text):\n",
    "    text = np.array(text)\n",
    "    return (''.join(text))"
   ]
  },
  {
   "cell_type": "code",
   "execution_count": 19,
   "metadata": {},
   "outputs": [],
   "source": [
    "def predict (symp):\n",
    "        symp = ' '+str(''.join(user_symp) )+ symp\n",
    "        user_symp.clear()\n",
    "        symp = preprocess(symp)\n",
    "        user_symp.append(symp)\n",
    "        print(user_symp)\n",
    "        y_pred = CPS_Model.predict_proba([symp])\n",
    "        pred = CPS_Model.predict([symp])\n",
    "        return pred,y_pred.max()"
   ]
  },
  {
   "cell_type": "code",
   "execution_count": 20,
   "metadata": {},
   "outputs": [],
   "source": [
    "def diagnose_user():\n",
    "    resp = random_resp(symp)\n",
    "    t2s(resp,170)\n",
    "    text = speech()\n",
    "    pre, pre_prob = predict(text)\n",
    "    while pre_prob < 0.85:\n",
    "        resp = random_resp(symp_error)\n",
    "        t2s(resp,170)\n",
    "        text = speech()\n",
    "        if 'stop' in text:\n",
    "            user_symp.clear()\n",
    "            resp = \"Diagnosing process was stopped !!\"\n",
    "            t2s(resp,170)\n",
    "            diagnose = False\n",
    "            break\n",
    "        pre, pre_prob = predict(text)\n",
    "    dis(pre,pre_prob)\n",
    "    \n",
    "def dis(pre,pre_prob): \n",
    "    pre_prob = pre_prob * 100\n",
    "    resp = \"I predicted you might \"+ str(pre) + \", with probability of \"+ '%.2f'%pre_prob\n",
    "    t2s(resp,170)\n",
    "    desc_cure(pre)\n",
    "\n",
    "def desc_cure(pre):\n",
    "    pre = ''.join(pre)\n",
    "    val = des[des['Disease'].str.lower() == pre]\n",
    "    print('\\nDescription about predicted disease\\n')\n",
    "    text = convert(val.Description)\n",
    "    t2s(text,190)\n",
    "    val = prec[prec['Disease'].str.lower() == pre]\n",
    "    print('\\nPrecautions for predicted disease\\n')\n",
    "    text = convert(val.Precaution_1)\n",
    "    t2s(text,170)\n",
    "    text =convert(val.Precaution_2)\n",
    "    t2s(text,170)\n",
    "    text = convert(val.Precaution_3)\n",
    "    t2s(text,170)\n",
    "    text =convert(val.Precaution_4)\n",
    "    t2s(text,170)\n"
   ]
  },
  {
   "cell_type": "code",
   "execution_count": 21,
   "metadata": {},
   "outputs": [
    {
     "name": "stdout",
     "output_type": "stream",
     "text": [
      "Say \"START\" to start diagnosing process\n",
      "Say \"STOP\" to stop diagnosing process\n",
      "Say \"QUIT\" to exit chatbot\n",
      "\n",
      "Hekka :  I'm Hekka! your MED-BOT\n",
      "Talk\n",
      "User:  hello\n",
      "Hekka :  Hi there!\n",
      "Talk\n",
      "User:  start diagnosing\n",
      "Hekka :  I can help you find out what's going on with a simple symptom assisment.\n",
      "Talk\n",
      "User:  I have running nose fever headache\n",
      "['running nose fever headache']\n",
      "Hekka :  Are you suffering from body pain ? I need more informations.\n",
      "Talk\n",
      "User:  stop diagnosing\n",
      "Hekka :  Diagnosing process was stopped !!\n",
      "Hekka :  I predicted you might ['impetigo'], with probability of 35.54\n",
      "\n",
      "Description about predicted disease\n",
      "\n",
      "Hekka :  Impetigo (im-puh-TIE-go) is a common and highly contagious skin infection that mainly affects infants and children. Impetigo usually appears as red sores on the face, especially around a child's nose and mouth, and on hands and feet. The sores burst and develop honey-colored crusts.\n",
      "\n",
      "Precautions for predicted disease\n",
      "\n",
      "Hekka :  soak affected area in warm water\n",
      "Hekka :  use antibiotics\n",
      "Hekka :  remove scabs with wet compressed cloth\n",
      "Hekka :  consult doctor\n",
      "Talk\n",
      "User:  quit\n",
      "Hekka :  Bye, Nice talking to you!\n"
     ]
    }
   ],
   "source": [
    "user_symp =[]\n",
    "print('Say \"START\" to start diagnosing process')\n",
    "print('Say \"STOP\" to stop diagnosing process')\n",
    "print('Say \"QUIT\" to exit chatbot\\n')\n",
    "resp = random_resp(intro)\n",
    "t2s(resp,170)\n",
    "state = 'online'\n",
    "\n",
    "while state!='offline':\n",
    "    text = speech()\n",
    "    \n",
    "    if 'start' in text:\n",
    "        diagnose_user()\n",
    "        \n",
    "    \n",
    "    elif 'quit' in text:\n",
    "        user_symp=[]\n",
    "        resp = random_resp(bye)\n",
    "        t2s(resp,170)\n",
    "        state = 'offline'\n",
    "    else:\n",
    "        user_symp=[]\n",
    "        resp = chat_resp(text)\n",
    "        t2s(resp,170) \n",
    "    "
   ]
  },
  {
   "cell_type": "code",
   "execution_count": null,
   "metadata": {},
   "outputs": [],
   "source": []
  },
  {
   "cell_type": "code",
   "execution_count": null,
   "metadata": {},
   "outputs": [],
   "source": []
  },
  {
   "cell_type": "code",
   "execution_count": null,
   "metadata": {},
   "outputs": [],
   "source": []
  },
  {
   "cell_type": "code",
   "execution_count": null,
   "metadata": {},
   "outputs": [],
   "source": []
  },
  {
   "cell_type": "code",
   "execution_count": null,
   "metadata": {},
   "outputs": [],
   "source": []
  }
 ],
 "metadata": {
  "kernelspec": {
   "display_name": "Python 3",
   "language": "python",
   "name": "python3"
  },
  "language_info": {
   "codemirror_mode": {
    "name": "ipython",
    "version": 3
   },
   "file_extension": ".py",
   "mimetype": "text/x-python",
   "name": "python",
   "nbconvert_exporter": "python",
   "pygments_lexer": "ipython3",
   "version": "3.7.7"
  }
 },
 "nbformat": 4,
 "nbformat_minor": 4
}
